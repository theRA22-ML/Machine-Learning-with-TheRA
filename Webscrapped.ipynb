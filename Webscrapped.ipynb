{
 "cells": [
  {
   "cell_type": "code",
   "execution_count": 1,
   "id": "0328f7a3-effb-4d6f-8f0d-2f5e2dd37273",
   "metadata": {},
   "outputs": [],
   "source": [
    "import pandas as pd\n",
    "import requests\n",
    "from bs4 import BeautifulSoup"
   ]
  },
  {
   "cell_type": "code",
   "execution_count": 2,
   "id": "8f52d300-c3c6-4c49-9b52-61ac954f969c",
   "metadata": {},
   "outputs": [],
   "source": [
    "url = 'https://data.unicef.org/#'"
   ]
  },
  {
   "cell_type": "code",
   "execution_count": 3,
   "id": "d30dd896-2cc9-4292-8a35-5cb96cf6fdcc",
   "metadata": {},
   "outputs": [],
   "source": [
    "response = requests.get(url)"
   ]
  },
  {
   "cell_type": "code",
   "execution_count": 4,
   "id": "6961997e-ef8f-4b36-9ae7-945f770f4744",
   "metadata": {},
   "outputs": [
    {
     "data": {
      "text/plain": [
       "403"
      ]
     },
     "execution_count": 4,
     "metadata": {},
     "output_type": "execute_result"
    }
   ],
   "source": [
    "response.status_code"
   ]
  },
  {
   "cell_type": "code",
   "execution_count": 5,
   "id": "3b811b4c-f8ff-445d-ad69-051e4cfb00f5",
   "metadata": {},
   "outputs": [],
   "source": [
    "with requests.Session() as se:\n",
    "    se.headers = {\n",
    "        \"User-Agent\": \"Mozilla/5.0 (Windows NT 10.0; Win64; x64) AppleWebKit/537.36 (KHTML, like Gecko) Chrome/70.0.3538.110 Safari/537.36\",\n",
    "        \"Accept-Encoding\": \"gzip, deflate\",\n",
    "        \"Accept\": \"text/html,application/xhtml+xml,application/xml;q=0.9,image/webp,image/apng,*/*;q=0.8\",\n",
    "        \"Accept-Language\": \"en\"\n",
    "    }"
   ]
  },
  {
   "cell_type": "code",
   "execution_count": 6,
   "id": "2940eab9-a1d1-48f7-af9f-993fb0319364",
   "metadata": {},
   "outputs": [
    {
     "data": {
      "text/plain": [
       "403"
      ]
     },
     "execution_count": 6,
     "metadata": {},
     "output_type": "execute_result"
    }
   ],
   "source": [
    "response.status_code"
   ]
  },
  {
   "cell_type": "code",
   "execution_count": 7,
   "id": "20067f45-5201-4e95-a6b8-cf44fe1f61cd",
   "metadata": {},
   "outputs": [],
   "source": [
    "url = 'https://globalnutritionreport.org/resources/naf/tracker/'"
   ]
  },
  {
   "cell_type": "code",
   "execution_count": 8,
   "id": "fe584600-ed72-4f86-b80f-fc99ba30447d",
   "metadata": {},
   "outputs": [],
   "source": [
    "response = requests.get(url)"
   ]
  },
  {
   "cell_type": "code",
   "execution_count": 9,
   "id": "53858911-22aa-4c3c-a060-04c6c0e50b90",
   "metadata": {},
   "outputs": [
    {
     "data": {
      "text/plain": [
       "200"
      ]
     },
     "execution_count": 9,
     "metadata": {},
     "output_type": "execute_result"
    }
   ],
   "source": [
    "response.status_code"
   ]
  },
  {
   "cell_type": "code",
   "execution_count": 10,
   "id": "e76662fd-8742-49f5-b681-a1a5c6c8a291",
   "metadata": {},
   "outputs": [],
   "source": [
    "body = response.content"
   ]
  },
  {
   "cell_type": "code",
   "execution_count": 11,
   "id": "7e64ea06-7760-464f-b37b-f146f3a0d012",
   "metadata": {},
   "outputs": [],
   "source": [
    "soup = BeautifulSoup(body, 'html.parser')"
   ]
  },
  {
   "cell_type": "markdown",
   "id": "aeb8119e-f3a6-4960-be97-640bbe03d0fa",
   "metadata": {},
   "source": [
    "### Scraping The Sectors"
   ]
  },
  {
   "cell_type": "code",
   "execution_count": 33,
   "id": "97336df0-d480-4bc4-b4a1-91cb3d08531f",
   "metadata": {},
   "outputs": [
    {
     "ename": "SyntaxError",
     "evalue": "invalid syntax. Maybe you meant '==' or ':=' instead of '='? (1046881218.py, line 1)",
     "output_type": "error",
     "traceback": [
      "\u001b[1;36m  Cell \u001b[1;32mIn[33], line 1\u001b[1;36m\u001b[0m\n\u001b[1;33m    'span', class_=\"meta__date\"\u001b[0m\n\u001b[1;37m            ^\u001b[0m\n\u001b[1;31mSyntaxError\u001b[0m\u001b[1;31m:\u001b[0m invalid syntax. Maybe you meant '==' or ':=' instead of '='?\n"
     ]
    }
   ],
   "source": [
    "'span', class_=\"meta__date\""
   ]
  },
  {
   "cell_type": "code",
   "execution_count": 35,
   "id": "58b32add-0136-4b82-ba98-d5a0930688b1",
   "metadata": {},
   "outputs": [],
   "source": [
    "sect = soup.find('span', class_=\"meta__date\")"
   ]
  },
  {
   "cell_type": "code",
   "execution_count": 37,
   "id": "ef9ed376-d234-4cb8-88e2-88c39aee418c",
   "metadata": {},
   "outputs": [
    {
     "data": {
      "text/plain": [
       "<span class=\"meta__date\">Private non-food business</span>"
      ]
     },
     "execution_count": 37,
     "metadata": {},
     "output_type": "execute_result"
    }
   ],
   "source": [
    "sect"
   ]
  },
  {
   "cell_type": "code",
   "execution_count": 39,
   "id": "081d67b1-b58a-4f36-9649-9a3aab43fd4a",
   "metadata": {},
   "outputs": [
    {
     "data": {
      "text/plain": [
       "'Private non-food business'"
      ]
     },
     "execution_count": 39,
     "metadata": {},
     "output_type": "execute_result"
    }
   ],
   "source": [
    "sect.get_text()"
   ]
  },
  {
   "cell_type": "code",
   "execution_count": 41,
   "id": "40014c6b-d5df-49b0-8442-27f0c460bcb8",
   "metadata": {},
   "outputs": [],
   "source": [
    "sectors = soup.find_all('span', class_=\"meta__date\")"
   ]
  },
  {
   "cell_type": "code",
   "execution_count": 43,
   "id": "e0427529-cf5f-4936-bd66-635a9c6738fe",
   "metadata": {},
   "outputs": [
    {
     "data": {
      "text/plain": [
       "[<span class=\"meta__date\">Private non-food business</span>,\n",
       " <span class=\"meta__date\">Civil society organisation</span>,\n",
       " <span class=\"meta__date\">Donor government</span>,\n",
       " <span class=\"meta__date\">Private food business</span>,\n",
       " <span class=\"meta__date\">Donor organisation</span>,\n",
       " <span class=\"meta__date\">Donor organisation</span>,\n",
       " <span class=\"meta__date\">Government (non-donor capacity)</span>,\n",
       " <span class=\"meta__date\">Government (non-donor capacity)</span>,\n",
       " <span class=\"meta__date\">Government (non-donor capacity)</span>,\n",
       " <span class=\"meta__date\">Government (non-donor capacity)</span>]"
      ]
     },
     "execution_count": 43,
     "metadata": {},
     "output_type": "execute_result"
    }
   ],
   "source": [
    "sectors"
   ]
  },
  {
   "cell_type": "code",
   "execution_count": 45,
   "id": "a7d5cc14-430f-4232-affe-7aa5f4910f7a",
   "metadata": {},
   "outputs": [],
   "source": [
    "sect_ors = []\n",
    "for sector in sectors:\n",
    "    text = sector.get_text()\n",
    "    sect_ors.append(text)"
   ]
  },
  {
   "cell_type": "code",
   "execution_count": 47,
   "id": "a3ac55dd-6b33-48dd-b808-8250a4ec5cf5",
   "metadata": {},
   "outputs": [
    {
     "data": {
      "text/plain": [
       "['Private non-food business',\n",
       " 'Civil society organisation',\n",
       " 'Donor government',\n",
       " 'Private food business',\n",
       " 'Donor organisation',\n",
       " 'Donor organisation',\n",
       " 'Government (non-donor capacity)',\n",
       " 'Government (non-donor capacity)',\n",
       " 'Government (non-donor capacity)',\n",
       " 'Government (non-donor capacity)']"
      ]
     },
     "execution_count": 47,
     "metadata": {},
     "output_type": "execute_result"
    }
   ],
   "source": [
    "sect_ors"
   ]
  },
  {
   "cell_type": "markdown",
   "id": "2af3ac66-832a-4084-b1c0-d50e2ec50381",
   "metadata": {},
   "source": [
    "### Scrapping Company Name"
   ]
  },
  {
   "cell_type": "code",
   "execution_count": 50,
   "id": "64c7d7e6-d6f2-4d39-9c46-fb775fcb0eba",
   "metadata": {},
   "outputs": [],
   "source": [
    "company = soup.find('h3', class_=\"commitment__aside__heading heading type-s\")"
   ]
  },
  {
   "cell_type": "code",
   "execution_count": 52,
   "id": "0c000773-992f-4ab8-85c8-5ab39c2f6160",
   "metadata": {},
   "outputs": [
    {
     "data": {
      "text/plain": [
       "<h3 class=\"commitment__aside__heading heading type-s\">Impact Nutrition Company Limited</h3>"
      ]
     },
     "execution_count": 52,
     "metadata": {},
     "output_type": "execute_result"
    }
   ],
   "source": [
    "company"
   ]
  },
  {
   "cell_type": "code",
   "execution_count": 54,
   "id": "9368a054-83d9-46ee-a27d-c22f2cf32977",
   "metadata": {},
   "outputs": [],
   "source": [
    "company_names = soup.find_all('h3', class_=\"commitment__aside__heading heading type-s\")"
   ]
  },
  {
   "cell_type": "code",
   "execution_count": 56,
   "id": "4ab2b1e8-2cbd-4656-bb47-d1e57fa99666",
   "metadata": {},
   "outputs": [
    {
     "data": {
      "text/plain": [
       "[<h3 class=\"commitment__aside__heading heading type-s\">Impact Nutrition Company Limited</h3>,\n",
       " <h3 class=\"commitment__aside__heading heading type-s\">Canadian Nutrition Society</h3>,\n",
       " <h3 class=\"commitment__aside__heading heading type-s\">Ministry for Economic Cooperation and Development, Germany</h3>,\n",
       " <h3 class=\"commitment__aside__heading heading type-s\">olam food ingredients</h3>,\n",
       " <h3 class=\"commitment__aside__heading heading type-s\">Rockefeller Foundation</h3>,\n",
       " <h3 class=\"commitment__aside__heading heading type-s\">Kirk Humanitarian</h3>,\n",
       " <h3 class=\"commitment__aside__heading heading type-s\">Conselho de Segurança Alimentar e Nutricional de São Tomé e Príncipe (CONSAN-STP)</h3>,\n",
       " <h3 class=\"commitment__aside__heading heading type-s\">Conselho de Segurança Alimentar e Nutricional de São Tomé e Príncipe (CONSAN-STP)</h3>,\n",
       " <h3 class=\"commitment__aside__heading heading type-s\">Ministry of Health and Social Protection, Tajikistan</h3>,\n",
       " <h3 class=\"commitment__aside__heading heading type-s\">Ministry of Health and Social Protection, Tajikistan</h3>]"
      ]
     },
     "execution_count": 56,
     "metadata": {},
     "output_type": "execute_result"
    }
   ],
   "source": [
    "company_names"
   ]
  },
  {
   "cell_type": "code",
   "execution_count": 58,
   "id": "5a116aa7-df8d-433e-aa37-3af0179f46f7",
   "metadata": {},
   "outputs": [
    {
     "data": {
      "text/plain": [
       "'Impact Nutrition Company Limited'"
      ]
     },
     "execution_count": 58,
     "metadata": {},
     "output_type": "execute_result"
    }
   ],
   "source": [
    "company.get_text()"
   ]
  },
  {
   "cell_type": "code",
   "execution_count": 60,
   "id": "1cfbab6f-9abf-4762-8862-31d51bea3d2c",
   "metadata": {},
   "outputs": [],
   "source": [
    "company = []\n",
    "for company_name in company_names:\n",
    "    text = company_name.get_text()\n",
    "    company.append(text)"
   ]
  },
  {
   "cell_type": "code",
   "execution_count": 62,
   "id": "d072eb4c-2210-4448-8ca3-7eb23bbba6b8",
   "metadata": {},
   "outputs": [
    {
     "data": {
      "text/plain": [
       "['Impact Nutrition Company Limited',\n",
       " 'Canadian Nutrition Society',\n",
       " 'Ministry for Economic Cooperation and Development, Germany',\n",
       " 'olam food ingredients',\n",
       " 'Rockefeller Foundation',\n",
       " 'Kirk Humanitarian',\n",
       " 'Conselho de Segurança Alimentar e Nutricional de São Tomé e Príncipe (CONSAN-STP)',\n",
       " 'Conselho de Segurança Alimentar e Nutricional de São Tomé e Príncipe (CONSAN-STP)',\n",
       " 'Ministry of Health and Social Protection, Tajikistan',\n",
       " 'Ministry of Health and Social Protection, Tajikistan']"
      ]
     },
     "execution_count": 62,
     "metadata": {},
     "output_type": "execute_result"
    }
   ],
   "source": [
    "company"
   ]
  },
  {
   "cell_type": "markdown",
   "id": "2edaf50d-d693-440f-a97b-5c8ab7c5f793",
   "metadata": {},
   "source": [
    "### Countries"
   ]
  },
  {
   "cell_type": "code",
   "execution_count": 65,
   "id": "b2040e3a-980b-4c3a-aed1-241da6d41b37",
   "metadata": {},
   "outputs": [],
   "source": [
    "countries = [\n",
    "    'Uganda',\n",
    "    'Canada',\n",
    "    'Germany',\n",
    "    'United Kingdom',\n",
    "    'United States of America',\n",
    "    'United States of America',\n",
    "    'Sao Tome',\n",
    "    'Sao Tome',\n",
    "    'Tajikstan',\n",
    "    'Tajikstan'\n",
    "]"
   ]
  },
  {
   "cell_type": "code",
   "execution_count": 67,
   "id": "13b9e773-b47c-49b4-9a84-08d181dfeb72",
   "metadata": {},
   "outputs": [
    {
     "data": {
      "text/plain": [
       "['Uganda',\n",
       " 'Canada',\n",
       " 'Germany',\n",
       " 'United Kingdom',\n",
       " 'United States of America',\n",
       " 'United States of America',\n",
       " 'Sao Tome',\n",
       " 'Sao Tome',\n",
       " 'Tajikstan',\n",
       " 'Tajikstan']"
      ]
     },
     "execution_count": 67,
     "metadata": {},
     "output_type": "execute_result"
    }
   ],
   "source": [
    "countries"
   ]
  },
  {
   "cell_type": "markdown",
   "id": "e39bd2f6-2b44-4813-ad1b-07aab063b5d9",
   "metadata": {},
   "source": [
    "### Scrapping Commitment Dates"
   ]
  },
  {
   "cell_type": "code",
   "execution_count": 70,
   "id": "f721a32b-b031-4d6a-bc44-0db1fce38d17",
   "metadata": {},
   "outputs": [],
   "source": [
    "commitment = soup.find('p', class_=\"meta__date\")"
   ]
  },
  {
   "cell_type": "code",
   "execution_count": 72,
   "id": "254b0bf2-6fa4-4fda-b7b3-bdd769b579c2",
   "metadata": {},
   "outputs": [
    {
     "ename": "NameError",
     "evalue": "name 'commitment_dates' is not defined",
     "output_type": "error",
     "traceback": [
      "\u001b[1;31m---------------------------------------------------------------------------\u001b[0m",
      "\u001b[1;31mNameError\u001b[0m                                 Traceback (most recent call last)",
      "Cell \u001b[1;32mIn[72], line 1\u001b[0m\n\u001b[1;32m----> 1\u001b[0m commitment_dates\n",
      "\u001b[1;31mNameError\u001b[0m: name 'commitment_dates' is not defined"
     ]
    }
   ],
   "source": [
    "commitment_dates"
   ]
  },
  {
   "cell_type": "code",
   "execution_count": 80,
   "id": "662e1c5d-e009-4799-b642-a542223bffb1",
   "metadata": {},
   "outputs": [],
   "source": [
    "commitment_dates = soup.find_all('p', class_=\"meta__date\")"
   ]
  },
  {
   "cell_type": "code",
   "execution_count": 82,
   "id": "a83e1ce9-0c4e-40eb-8c45-74e4b43979a4",
   "metadata": {},
   "outputs": [
    {
     "data": {
      "text/plain": [
       "<p class=\"meta__date\"><svg class=\"icon-calendar-svg\"><use xlink:href=\"/assets/svg/icons/renders/sprite.svg#calendar\"></use></svg>Commitment made: 21 Nov 2022</p>"
      ]
     },
     "execution_count": 82,
     "metadata": {},
     "output_type": "execute_result"
    }
   ],
   "source": [
    "commitment"
   ]
  },
  {
   "cell_type": "code",
   "execution_count": 84,
   "id": "828f66b7-6a09-4bee-988d-ddaf28f6303a",
   "metadata": {},
   "outputs": [
    {
     "data": {
      "text/plain": [
       "'Commitment made: 21 Nov 2022'"
      ]
     },
     "execution_count": 84,
     "metadata": {},
     "output_type": "execute_result"
    }
   ],
   "source": [
    "commitment.get_text()"
   ]
  },
  {
   "cell_type": "code",
   "execution_count": 86,
   "id": "16060921-a860-4911-b3cf-4e6ffba41466",
   "metadata": {},
   "outputs": [],
   "source": [
    "commitment = []\n",
    "for commitment_date in commitment_dates:\n",
    "    text = commitment_date.get_text()\n",
    "    commitment.append(text)"
   ]
  },
  {
   "cell_type": "code",
   "execution_count": 88,
   "id": "83d9cccc-8bdf-4848-bca6-e3de1f1cb30b",
   "metadata": {},
   "outputs": [
    {
     "data": {
      "text/plain": [
       "['Commitment made: 21 Nov 2022',\n",
       " 'Commitment made: 01 Sep 2022',\n",
       " 'Commitment made: 12 Jul 2022',\n",
       " 'Commitment made: 27 Apr 2022',\n",
       " 'Commitment made: 01 Apr 2022',\n",
       " 'Commitment made: 15 Mar 2022',\n",
       " 'Commitment made: 15 Mar 2022',\n",
       " 'Commitment made: 15 Mar 2022',\n",
       " 'Commitment made: 15 Mar 2022',\n",
       " 'Commitment made: 15 Mar 2022']"
      ]
     },
     "execution_count": 88,
     "metadata": {},
     "output_type": "execute_result"
    }
   ],
   "source": [
    "commitment"
   ]
  },
  {
   "cell_type": "markdown",
   "id": "53274721-1f8c-4498-a9dd-3c6187b783af",
   "metadata": {},
   "source": [
    "### Scrape Goals"
   ]
  },
  {
   "cell_type": "code",
   "execution_count": 91,
   "id": "30cca2fb-78b3-420c-b30c-339120873f23",
   "metadata": {},
   "outputs": [],
   "source": [
    "the_goal = soup.find('h2', class_=\"commitment__heading\")"
   ]
  },
  {
   "cell_type": "code",
   "execution_count": 93,
   "id": "666e9b7a-20f5-4528-8321-3d33fe89efb4",
   "metadata": {},
   "outputs": [
    {
     "data": {
      "text/plain": [
       "<h2 class=\"commitment__heading\" data-js-entity-title=\"\">Easy and Sustainable Healthy Eating</h2>"
      ]
     },
     "execution_count": 93,
     "metadata": {},
     "output_type": "execute_result"
    }
   ],
   "source": [
    "the_goal"
   ]
  },
  {
   "cell_type": "code",
   "execution_count": 95,
   "id": "998de638-384b-401a-94ad-d7faa7675df6",
   "metadata": {},
   "outputs": [],
   "source": [
    "the_goals = soup.find_all('h2', class_=\"commitment__heading\")"
   ]
  },
  {
   "cell_type": "code",
   "execution_count": 97,
   "id": "c3292ef3-f858-4eb5-85f5-bb0fda387f59",
   "metadata": {},
   "outputs": [
    {
     "data": {
      "text/plain": [
       "[<h2 class=\"commitment__heading\" data-js-entity-title=\"\">Easy and Sustainable Healthy Eating</h2>,\n",
       " <h2 class=\"commitment__heading\" data-js-entity-title=\"\">CAN DReaM</h2>,\n",
       " <h2 class=\"commitment__heading\" data-js-entity-title=\"\">Invest in nutrition-related programmes</h2>,\n",
       " <h2 class=\"commitment__heading\" data-js-entity-title=\"\">Workforce Nutrition Support</h2>,\n",
       " <h2 class=\"commitment__heading\" data-js-entity-title=\"\">The Good Food Strategy</h2>,\n",
       " <h2 class=\"commitment__heading\" data-js-entity-title=\"\">Accelerate Introduction of MMS in LMICs</h2>,\n",
       " <h2 class=\"commitment__heading\" data-js-entity-title=\"\">contribute funding for nutrition</h2>,\n",
       " <h2 class=\"commitment__heading\" data-js-entity-title=\"\">Reduce anemia rates by 2030.</h2>,\n",
       " <h2 class=\"commitment__heading\" data-js-entity-title=\"\">Stunting reduction in children under 5</h2>,\n",
       " <h2 class=\"commitment__heading\" data-js-entity-title=\"\">Prevention of micronutrient deficiencies</h2>]"
      ]
     },
     "execution_count": 97,
     "metadata": {},
     "output_type": "execute_result"
    }
   ],
   "source": [
    "the_goals"
   ]
  },
  {
   "cell_type": "code",
   "execution_count": 99,
   "id": "d74a5d28-142c-4989-9d17-5ea1da7b076a",
   "metadata": {},
   "outputs": [],
   "source": [
    "Goals = []\n",
    "for the_goal in the_goals:\n",
    "    text = the_goal.get_text()\n",
    "    Goals.append(text)"
   ]
  },
  {
   "cell_type": "code",
   "execution_count": 101,
   "id": "523c3db9-22d2-4972-adbc-5b38d8ce56fe",
   "metadata": {},
   "outputs": [
    {
     "data": {
      "text/plain": [
       "['Easy and Sustainable Healthy Eating',\n",
       " 'CAN DReaM',\n",
       " 'Invest in nutrition-related programmes',\n",
       " 'Workforce Nutrition Support',\n",
       " 'The Good Food Strategy',\n",
       " 'Accelerate Introduction of MMS in LMICs',\n",
       " 'contribute funding for nutrition',\n",
       " 'Reduce anemia rates by 2030.',\n",
       " 'Stunting reduction in children under 5',\n",
       " 'Prevention of micronutrient deficiencies']"
      ]
     },
     "execution_count": 101,
     "metadata": {},
     "output_type": "execute_result"
    }
   ],
   "source": [
    "Goals"
   ]
  },
  {
   "cell_type": "markdown",
   "id": "c473dacd-e2dd-45b3-a4e4-2d0b870c27b6",
   "metadata": {},
   "source": [
    "### Storing the scraped Data"
   ]
  },
  {
   "cell_type": "code",
   "execution_count": 104,
   "id": "7c251e53-567b-48c1-bb22-30a27249f921",
   "metadata": {},
   "outputs": [
    {
     "data": {
      "text/html": [
       "<div>\n",
       "<style scoped>\n",
       "    .dataframe tbody tr th:only-of-type {\n",
       "        vertical-align: middle;\n",
       "    }\n",
       "\n",
       "    .dataframe tbody tr th {\n",
       "        vertical-align: top;\n",
       "    }\n",
       "\n",
       "    .dataframe thead th {\n",
       "        text-align: right;\n",
       "    }\n",
       "</style>\n",
       "<table border=\"1\" class=\"dataframe\">\n",
       "  <thead>\n",
       "    <tr style=\"text-align: right;\">\n",
       "      <th></th>\n",
       "      <th>Sectors</th>\n",
       "      <th>Company_name</th>\n",
       "      <th>Country</th>\n",
       "      <th>Date of Commitment</th>\n",
       "      <th>Commitment_Goals</th>\n",
       "    </tr>\n",
       "  </thead>\n",
       "  <tbody>\n",
       "    <tr>\n",
       "      <th>0</th>\n",
       "      <td>Private non-food business</td>\n",
       "      <td>Impact Nutrition Company Limited</td>\n",
       "      <td>Uganda</td>\n",
       "      <td>Commitment made: 21 Nov 2022</td>\n",
       "      <td>Easy and Sustainable Healthy Eating</td>\n",
       "    </tr>\n",
       "    <tr>\n",
       "      <th>1</th>\n",
       "      <td>Civil society organisation</td>\n",
       "      <td>Canadian Nutrition Society</td>\n",
       "      <td>Canada</td>\n",
       "      <td>Commitment made: 01 Sep 2022</td>\n",
       "      <td>CAN DReaM</td>\n",
       "    </tr>\n",
       "    <tr>\n",
       "      <th>2</th>\n",
       "      <td>Donor government</td>\n",
       "      <td>Ministry for Economic Cooperation and Developm...</td>\n",
       "      <td>Germany</td>\n",
       "      <td>Commitment made: 12 Jul 2022</td>\n",
       "      <td>Invest in nutrition-related programmes</td>\n",
       "    </tr>\n",
       "    <tr>\n",
       "      <th>3</th>\n",
       "      <td>Private food business</td>\n",
       "      <td>olam food ingredients</td>\n",
       "      <td>United Kingdom</td>\n",
       "      <td>Commitment made: 27 Apr 2022</td>\n",
       "      <td>Workforce Nutrition Support</td>\n",
       "    </tr>\n",
       "    <tr>\n",
       "      <th>4</th>\n",
       "      <td>Donor organisation</td>\n",
       "      <td>Rockefeller Foundation</td>\n",
       "      <td>United States of America</td>\n",
       "      <td>Commitment made: 01 Apr 2022</td>\n",
       "      <td>The Good Food Strategy</td>\n",
       "    </tr>\n",
       "  </tbody>\n",
       "</table>\n",
       "</div>"
      ],
      "text/plain": [
       "                      Sectors  \\\n",
       "0   Private non-food business   \n",
       "1  Civil society organisation   \n",
       "2            Donor government   \n",
       "3       Private food business   \n",
       "4          Donor organisation   \n",
       "\n",
       "                                        Company_name  \\\n",
       "0                   Impact Nutrition Company Limited   \n",
       "1                         Canadian Nutrition Society   \n",
       "2  Ministry for Economic Cooperation and Developm...   \n",
       "3                              olam food ingredients   \n",
       "4                             Rockefeller Foundation   \n",
       "\n",
       "                    Country            Date of Commitment  \\\n",
       "0                    Uganda  Commitment made: 21 Nov 2022   \n",
       "1                    Canada  Commitment made: 01 Sep 2022   \n",
       "2                   Germany  Commitment made: 12 Jul 2022   \n",
       "3            United Kingdom  Commitment made: 27 Apr 2022   \n",
       "4  United States of America  Commitment made: 01 Apr 2022   \n",
       "\n",
       "                         Commitment_Goals  \n",
       "0     Easy and Sustainable Healthy Eating  \n",
       "1                               CAN DReaM  \n",
       "2  Invest in nutrition-related programmes  \n",
       "3             Workforce Nutrition Support  \n",
       "4                  The Good Food Strategy  "
      ]
     },
     "execution_count": 104,
     "metadata": {},
     "output_type": "execute_result"
    }
   ],
   "source": [
    "data = pd.DataFrame()\n",
    "data ['Sectors'] = sect_ors\n",
    "data['Company_name'] = company\n",
    "data['Country'] = countries\n",
    "data ['Date of Commitment'] = commitment\n",
    "data ['Commitment_Goals'] = Goals\n",
    "\n",
    "data.head()"
   ]
  },
  {
   "cell_type": "code",
   "execution_count": 106,
   "id": "70ced4d7-a17c-427f-a337-d93cb4bb8f82",
   "metadata": {},
   "outputs": [
    {
     "data": {
      "text/html": [
       "<div>\n",
       "<style scoped>\n",
       "    .dataframe tbody tr th:only-of-type {\n",
       "        vertical-align: middle;\n",
       "    }\n",
       "\n",
       "    .dataframe tbody tr th {\n",
       "        vertical-align: top;\n",
       "    }\n",
       "\n",
       "    .dataframe thead th {\n",
       "        text-align: right;\n",
       "    }\n",
       "</style>\n",
       "<table border=\"1\" class=\"dataframe\">\n",
       "  <thead>\n",
       "    <tr style=\"text-align: right;\">\n",
       "      <th></th>\n",
       "      <th>Sectors</th>\n",
       "      <th>Company_name</th>\n",
       "      <th>Country</th>\n",
       "      <th>Date of Commitment</th>\n",
       "      <th>Commitment_Goals</th>\n",
       "    </tr>\n",
       "  </thead>\n",
       "  <tbody>\n",
       "    <tr>\n",
       "      <th>0</th>\n",
       "      <td>Private non-food business</td>\n",
       "      <td>Impact Nutrition Company Limited</td>\n",
       "      <td>Uganda</td>\n",
       "      <td>Commitment made: 21 Nov 2022</td>\n",
       "      <td>Easy and Sustainable Healthy Eating</td>\n",
       "    </tr>\n",
       "    <tr>\n",
       "      <th>1</th>\n",
       "      <td>Civil society organisation</td>\n",
       "      <td>Canadian Nutrition Society</td>\n",
       "      <td>Canada</td>\n",
       "      <td>Commitment made: 01 Sep 2022</td>\n",
       "      <td>CAN DReaM</td>\n",
       "    </tr>\n",
       "    <tr>\n",
       "      <th>2</th>\n",
       "      <td>Donor government</td>\n",
       "      <td>Ministry for Economic Cooperation and Developm...</td>\n",
       "      <td>Germany</td>\n",
       "      <td>Commitment made: 12 Jul 2022</td>\n",
       "      <td>Invest in nutrition-related programmes</td>\n",
       "    </tr>\n",
       "    <tr>\n",
       "      <th>3</th>\n",
       "      <td>Private food business</td>\n",
       "      <td>olam food ingredients</td>\n",
       "      <td>United Kingdom</td>\n",
       "      <td>Commitment made: 27 Apr 2022</td>\n",
       "      <td>Workforce Nutrition Support</td>\n",
       "    </tr>\n",
       "    <tr>\n",
       "      <th>4</th>\n",
       "      <td>Donor organisation</td>\n",
       "      <td>Rockefeller Foundation</td>\n",
       "      <td>United States of America</td>\n",
       "      <td>Commitment made: 01 Apr 2022</td>\n",
       "      <td>The Good Food Strategy</td>\n",
       "    </tr>\n",
       "    <tr>\n",
       "      <th>5</th>\n",
       "      <td>Donor organisation</td>\n",
       "      <td>Kirk Humanitarian</td>\n",
       "      <td>United States of America</td>\n",
       "      <td>Commitment made: 15 Mar 2022</td>\n",
       "      <td>Accelerate Introduction of MMS in LMICs</td>\n",
       "    </tr>\n",
       "    <tr>\n",
       "      <th>6</th>\n",
       "      <td>Government (non-donor capacity)</td>\n",
       "      <td>Conselho de Segurança Alimentar e Nutricional ...</td>\n",
       "      <td>Sao Tome</td>\n",
       "      <td>Commitment made: 15 Mar 2022</td>\n",
       "      <td>contribute funding for nutrition</td>\n",
       "    </tr>\n",
       "    <tr>\n",
       "      <th>7</th>\n",
       "      <td>Government (non-donor capacity)</td>\n",
       "      <td>Conselho de Segurança Alimentar e Nutricional ...</td>\n",
       "      <td>Sao Tome</td>\n",
       "      <td>Commitment made: 15 Mar 2022</td>\n",
       "      <td>Reduce anemia rates by 2030.</td>\n",
       "    </tr>\n",
       "    <tr>\n",
       "      <th>8</th>\n",
       "      <td>Government (non-donor capacity)</td>\n",
       "      <td>Ministry of Health and Social Protection, Taji...</td>\n",
       "      <td>Tajikstan</td>\n",
       "      <td>Commitment made: 15 Mar 2022</td>\n",
       "      <td>Stunting reduction in children under 5</td>\n",
       "    </tr>\n",
       "    <tr>\n",
       "      <th>9</th>\n",
       "      <td>Government (non-donor capacity)</td>\n",
       "      <td>Ministry of Health and Social Protection, Taji...</td>\n",
       "      <td>Tajikstan</td>\n",
       "      <td>Commitment made: 15 Mar 2022</td>\n",
       "      <td>Prevention of micronutrient deficiencies</td>\n",
       "    </tr>\n",
       "  </tbody>\n",
       "</table>\n",
       "</div>"
      ],
      "text/plain": [
       "                           Sectors  \\\n",
       "0        Private non-food business   \n",
       "1       Civil society organisation   \n",
       "2                 Donor government   \n",
       "3            Private food business   \n",
       "4               Donor organisation   \n",
       "5               Donor organisation   \n",
       "6  Government (non-donor capacity)   \n",
       "7  Government (non-donor capacity)   \n",
       "8  Government (non-donor capacity)   \n",
       "9  Government (non-donor capacity)   \n",
       "\n",
       "                                        Company_name  \\\n",
       "0                   Impact Nutrition Company Limited   \n",
       "1                         Canadian Nutrition Society   \n",
       "2  Ministry for Economic Cooperation and Developm...   \n",
       "3                              olam food ingredients   \n",
       "4                             Rockefeller Foundation   \n",
       "5                                  Kirk Humanitarian   \n",
       "6  Conselho de Segurança Alimentar e Nutricional ...   \n",
       "7  Conselho de Segurança Alimentar e Nutricional ...   \n",
       "8  Ministry of Health and Social Protection, Taji...   \n",
       "9  Ministry of Health and Social Protection, Taji...   \n",
       "\n",
       "                    Country            Date of Commitment  \\\n",
       "0                    Uganda  Commitment made: 21 Nov 2022   \n",
       "1                    Canada  Commitment made: 01 Sep 2022   \n",
       "2                   Germany  Commitment made: 12 Jul 2022   \n",
       "3            United Kingdom  Commitment made: 27 Apr 2022   \n",
       "4  United States of America  Commitment made: 01 Apr 2022   \n",
       "5  United States of America  Commitment made: 15 Mar 2022   \n",
       "6                  Sao Tome  Commitment made: 15 Mar 2022   \n",
       "7                  Sao Tome  Commitment made: 15 Mar 2022   \n",
       "8                 Tajikstan  Commitment made: 15 Mar 2022   \n",
       "9                 Tajikstan  Commitment made: 15 Mar 2022   \n",
       "\n",
       "                           Commitment_Goals  \n",
       "0       Easy and Sustainable Healthy Eating  \n",
       "1                                 CAN DReaM  \n",
       "2    Invest in nutrition-related programmes  \n",
       "3               Workforce Nutrition Support  \n",
       "4                    The Good Food Strategy  \n",
       "5   Accelerate Introduction of MMS in LMICs  \n",
       "6          contribute funding for nutrition  \n",
       "7              Reduce anemia rates by 2030.  \n",
       "8    Stunting reduction in children under 5  \n",
       "9  Prevention of micronutrient deficiencies  "
      ]
     },
     "execution_count": 106,
     "metadata": {},
     "output_type": "execute_result"
    }
   ],
   "source": [
    "data"
   ]
  },
  {
   "cell_type": "code",
   "execution_count": 108,
   "id": "6ffe1c5f-04ec-4330-b347-54dd0505c91f",
   "metadata": {},
   "outputs": [],
   "source": [
    "data.to_csv('Global_Nutrition_Report.csv', index = False)"
   ]
  },
  {
   "cell_type": "code",
   "execution_count": null,
   "id": "ca14c402-a441-4f45-9085-33434d4114c9",
   "metadata": {},
   "outputs": [],
   "source": []
  },
  {
   "cell_type": "code",
   "execution_count": null,
   "id": "969ed398-36a0-4574-9209-3ef06bc3ea5c",
   "metadata": {},
   "outputs": [],
   "source": []
  },
  {
   "cell_type": "code",
   "execution_count": null,
   "id": "460d16d6-9a13-42c9-a9fd-970ea6921e28",
   "metadata": {},
   "outputs": [],
   "source": []
  }
 ],
 "metadata": {
  "kernelspec": {
   "display_name": "Python 3 (ipykernel)",
   "language": "python",
   "name": "python3"
  },
  "language_info": {
   "codemirror_mode": {
    "name": "ipython",
    "version": 3
   },
   "file_extension": ".py",
   "mimetype": "text/x-python",
   "name": "python",
   "nbconvert_exporter": "python",
   "pygments_lexer": "ipython3",
   "version": "3.12.7"
  }
 },
 "nbformat": 4,
 "nbformat_minor": 5
}
